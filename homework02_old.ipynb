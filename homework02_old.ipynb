{
 "cells": [
  {
   "cell_type": "code",
   "execution_count": 1,
   "source": [
    "import pandas as pd\r\n",
    "import torch\r\n",
    "import networkx as nx\r\n",
    "import torch_geometric.datasets as dataset\r\n",
    "\r\n",
    "import seaborn as sns\r\n",
    "import matplotlib.pyplot as plt"
   ],
   "outputs": [],
   "metadata": {}
  },
  {
   "cell_type": "code",
   "execution_count": 2,
   "source": [
    "# Types\r\n",
    "from torch_geometric.datasets import GNNBenchmarkDataset\r\n",
    "from networkx import Graph"
   ],
   "outputs": [],
   "metadata": {}
  },
  {
   "cell_type": "code",
   "execution_count": 3,
   "source": [
    "myData = dataset.GNNBenchmarkDataset(\r\n",
    "    root=\"data/homework02\",\r\n",
    "    name=\"CSL\",\r\n",
    ")"
   ],
   "outputs": [],
   "metadata": {}
  },
  {
   "cell_type": "code",
   "execution_count": 4,
   "source": [
    "# Pega a lista de grafos como uma lista de GNNBenchmarkDataset\r\n",
    "graphs = myData.process_CSL()\r\n",
    "#graphs[0].edge_stores"
   ],
   "outputs": [],
   "metadata": {}
  },
  {
   "cell_type": "code",
   "execution_count": 5,
   "source": [
    "graphs[0]"
   ],
   "outputs": [
    {
     "output_type": "execute_result",
     "data": {
      "text/plain": [
       "Data(edge_index=[2, 164], y=0, num_nodes=41)"
      ]
     },
     "metadata": {},
     "execution_count": 5
    }
   ],
   "metadata": {}
  },
  {
   "cell_type": "code",
   "execution_count": 6,
   "source": [
    "# Recebe um [GNNBenchmarkDataset] e cria \r\n",
    "# e retorna um grafo NetworkX\r\n",
    "def createGraph(data: GNNBenchmarkDataset) -> Graph:    \r\n",
    "    G = nx.Graph()\r\n",
    "    for index in range(data.num_nodes):\r\n",
    "        G.add_node(index)\r\n",
    "        \r\n",
    "    u = data.edge_index[0]\r\n",
    "    v = data.edge_index[1]\r\n",
    "    for index in range(data.num_edges):\r\n",
    "        G.add_edge(int(u[index]), int(v[index]))\r\n",
    "        \r\n",
    "    return G"
   ],
   "outputs": [],
   "metadata": {}
  },
  {
   "cell_type": "code",
   "execution_count": 2,
   "source": [
    "from grakel.datasets import fetch_dataset\r\n",
    "'''\r\n",
    "if as_graphs:\r\n",
    "        for i in range(1, len(Graphs)+1):\r\n",
    "            Gs.append(Graph(Graphs[i], node_labels[i], edge_labels[i]))\r\n",
    "    else:\r\n",
    "        for i in range(1, len(Graphs)+1):\r\n",
    "            Gs.append([Graphs[i], node_labels[i], edge_labels[i]])\r\n",
    "'''\r\n",
    "MUTAG = fetch_dataset(\"MUTAG\", verbose=False)\r\n",
    "G = MUTAG.data\r\n",
    "y = MUTAG.target"
   ],
   "outputs": [],
   "metadata": {}
  },
  {
   "cell_type": "code",
   "execution_count": 11,
   "source": [
    "print(type(G[0]))\r\n",
    "print(type(G[0][0]))\r\n",
    "for el in G[0][0]:\r\n",
    "    print(el)"
   ],
   "outputs": [
    {
     "output_type": "stream",
     "name": "stdout",
     "text": [
      "<class 'list'>\n",
      "<class 'set'>\n",
      "(3, 4)\n",
      "(4, 3)\n",
      "(5, 4)\n",
      "(12, 13)\n",
      "(5, 7)\n",
      "(14, 13)\n",
      "(8, 9)\n",
      "(9, 8)\n",
      "(9, 14)\n",
      "(17, 15)\n",
      "(10, 9)\n",
      "(1, 6)\n",
      "(13, 14)\n",
      "(6, 5)\n",
      "(15, 17)\n",
      "(4, 5)\n",
      "(14, 9)\n",
      "(5, 6)\n",
      "(9, 10)\n",
      "(1, 2)\n",
      "(10, 11)\n",
      "(2, 1)\n",
      "(11, 10)\n",
      "(6, 1)\n",
      "(15, 13)\n",
      "(15, 16)\n",
      "(13, 15)\n",
      "(16, 15)\n",
      "(3, 2)\n",
      "(12, 11)\n",
      "(4, 10)\n",
      "(8, 7)\n",
      "(10, 4)\n",
      "(2, 3)\n",
      "(11, 12)\n",
      "(13, 12)\n",
      "(7, 5)\n",
      "(7, 8)\n"
     ]
    }
   ],
   "metadata": {}
  },
  {
   "cell_type": "code",
   "execution_count": 15,
   "source": [
    "from grakel.kernels import WeisfeilerLehman, VertexHistogram\r\n",
    "from sklearn.model_selection import train_test_split\r\n",
    "from sklearn.svm import SVC\r\n",
    "wl_kernel = WeisfeilerLehman(n_iter=5, normalize=False, base_graph_kernel=VertexHistogram)"
   ],
   "outputs": [],
   "metadata": {}
  },
  {
   "cell_type": "code",
   "execution_count": 21,
   "source": [
    "myGraphs = []\r\n",
    "for graph in graphs:\r\n",
    "    myGraphs.append( createGraph(graph) )\r\n",
    "#map(graphs, createGraph)\r\n",
    "\r\n",
    "y = [ graph.y for graph in graphs ]"
   ],
   "outputs": [],
   "metadata": {}
  },
  {
   "cell_type": "code",
   "execution_count": 16,
   "source": [
    "G_train, G_test, y_train, y_test = train_test_split(G, y, test_size=0.1, random_state=42)"
   ],
   "outputs": [],
   "metadata": {}
  },
  {
   "cell_type": "code",
   "execution_count": 25,
   "source": [
    "K_train = wl_kernel.fit_transform(G_train)\r\n",
    "K_test = wl_kernel.transform(G_test)"
   ],
   "outputs": [],
   "metadata": {}
  },
  {
   "cell_type": "code",
   "execution_count": 26,
   "source": [
    "K_train"
   ],
   "outputs": [
    {
     "output_type": "execute_result",
     "data": {
      "text/plain": [
       "array([[1.        , 0.73435802, 0.73903538, ..., 0.63577527, 0.65695235,\n",
       "        0.63745526],\n",
       "       [0.73435802, 1.        , 0.72828268, ..., 0.61806172, 0.6444991 ,\n",
       "        0.62113251],\n",
       "       [0.73903538, 0.72828268, 1.        , ..., 0.88391632, 0.86030249,\n",
       "        0.79138739],\n",
       "       ...,\n",
       "       [0.63577527, 0.61806172, 0.88391632, ..., 1.        , 0.88242643,\n",
       "        0.83370093],\n",
       "       [0.65695235, 0.6444991 , 0.86030249, ..., 0.88242643, 1.        ,\n",
       "        0.85546372],\n",
       "       [0.63745526, 0.62113251, 0.79138739, ..., 0.83370093, 0.85546372,\n",
       "        1.        ]])"
      ]
     },
     "metadata": {},
     "execution_count": 26
    }
   ],
   "metadata": {}
  },
  {
   "cell_type": "code",
   "execution_count": 21,
   "source": [
    "'''\r\n",
    "SVC(C=1.0, break_ties=False, cache_size=200, class_weight=None, coef0=0.0,\r\n",
    "    decision_function_shape='ovr', degree=3, gamma='scale',\r\n",
    "    kernel='precomputed', max_iter=-1, probability=False, random_state=None,\r\n",
    "    shrinking=True, tol=0.001, verbose=False)\r\n",
    "'''\r\n",
    "clf = SVC(kernel='precomputed')\r\n",
    "clf.fit(K_train, y_train)\r\n",
    "y_pred = clf.predict(K_test)"
   ],
   "outputs": [],
   "metadata": {}
  },
  {
   "cell_type": "code",
   "execution_count": 22,
   "source": [
    "print(y_test)\r\n",
    "print(y_pred)"
   ],
   "outputs": [
    {
     "output_type": "stream",
     "name": "stdout",
     "text": [
      "[ 1  1 -1  1  1  1  1 -1 -1 -1  1 -1  1 -1  1  1 -1  1  1]\n",
      "[ 1  1 -1  1  1  1  1  1 -1 -1  1 -1  1  1 -1  1 -1  1  1]\n"
     ]
    }
   ],
   "metadata": {}
  },
  {
   "cell_type": "code",
   "execution_count": 9,
   "source": [
    "# Cria um grafo\r\n",
    "graph = createGraph(graphs[0])\r\n",
    "#fig = nx.draw(graph, with_labels = True, pos=nx.spring_layout(graph))"
   ],
   "outputs": [],
   "metadata": {}
  },
  {
   "cell_type": "code",
   "execution_count": 32,
   "source": [
    "# para cada grafo, gerar a lista \r\n",
    "def weisfeiler(graph: Graph, epoc: int = None, maxColor: int = None) -> list[int]:\r\n",
    "    graph = graph.copy()\r\n",
    "    \r\n",
    "    if epoc == None:\r\n",
    "        epoc = len(graph.nodes)\r\n",
    "    \r\n",
    "    if maxColor == None:\r\n",
    "        maxColor = len(graph.nodes)*5\r\n",
    "    \r\n",
    "    for node in graph.nodes:\r\n",
    "        graph.nodes[node]['color'] = 1\r\n",
    "\r\n",
    "    #print(graph.nodes(data=True))\r\n",
    "\r\n",
    "    countColors = []\r\n",
    "    curColor = 2\r\n",
    "    while curColor < maxColor and epoc > 0:\r\n",
    "        epoc = epoc - 1\r\n",
    "\r\n",
    "        neighborColors = {}\r\n",
    "        for node in graph.nodes():\r\n",
    "            #print(f\"No nó {node}\")\r\n",
    "            print( len(graph.adj[node]) )\r\n",
    "            neighbornString = \"\"\r\n",
    "            for neighbor in graph.adj[node]:\r\n",
    "                # print(graph.nodes[neighbor]['color'], end=\"\")\r\n",
    "                neighbornString = neighbornString + \"-\" + str(graph.nodes[neighbor]['color'])\r\n",
    "\r\n",
    "            if neighborColors.get(neighbornString, None) == None:\r\n",
    "                neighborColors[neighbornString] = True\r\n",
    "                print(neighbornString)\r\n",
    "        \r\n",
    "        break\r\n",
    "    \r\n",
    "    return countColors\r\n",
    "\r\n",
    "print(weisfeiler(graph))"
   ],
   "outputs": [
    {
     "output_type": "stream",
     "name": "stdout",
     "text": [
      "4\n",
      "-1-1-1-1\n",
      "4\n",
      "4\n",
      "4\n",
      "4\n",
      "4\n",
      "4\n",
      "4\n",
      "4\n",
      "4\n",
      "4\n",
      "4\n",
      "4\n",
      "4\n",
      "4\n",
      "4\n",
      "4\n",
      "4\n",
      "4\n",
      "4\n",
      "4\n",
      "4\n",
      "4\n",
      "4\n",
      "4\n",
      "4\n",
      "4\n",
      "4\n",
      "4\n",
      "4\n",
      "4\n",
      "4\n",
      "4\n",
      "4\n",
      "4\n",
      "4\n",
      "4\n",
      "4\n",
      "4\n",
      "4\n",
      "4\n",
      "[]\n"
     ]
    }
   ],
   "metadata": {}
  },
  {
   "cell_type": "code",
   "execution_count": 8,
   "source": [
    "# criar um dataset com a lista + classe"
   ],
   "outputs": [],
   "metadata": {}
  },
  {
   "cell_type": "code",
   "execution_count": 9,
   "source": [
    "# treinar um modelo"
   ],
   "outputs": [],
   "metadata": {}
  },
  {
   "cell_type": "code",
   "execution_count": 10,
   "source": [
    "# fazer testes do modelo"
   ],
   "outputs": [],
   "metadata": {}
  },
  {
   "cell_type": "code",
   "execution_count": null,
   "source": [],
   "outputs": [],
   "metadata": {}
  }
 ],
 "metadata": {
  "kernelspec": {
   "name": "python3",
   "display_name": "Python 3.9.6 64-bit"
  },
  "language_info": {
   "codemirror_mode": {
    "name": "ipython",
    "version": 3
   },
   "file_extension": ".py",
   "mimetype": "text/x-python",
   "name": "python",
   "nbconvert_exporter": "python",
   "pygments_lexer": "ipython3",
   "version": "3.9.6"
  },
  "interpreter": {
   "hash": "e67436cab2aa47a38345cdcb4834809c3883e08610987e2ee7228876be9734d2"
  }
 },
 "nbformat": 4,
 "nbformat_minor": 5
}