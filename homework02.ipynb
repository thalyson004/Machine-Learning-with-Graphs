{
 "cells": [
  {
   "cell_type": "markdown",
   "source": [
    "# Libraries"
   ],
   "metadata": {}
  },
  {
   "cell_type": "code",
   "execution_count": 40,
   "source": [
    "from ogb.graphproppred import PygGraphPropPredDataset\r\n",
    "from ogb.io.read_graph_raw import read_csv_graph_raw\r\n",
    "from torch_geometric.data import DataLoader\r\n",
    "from ogb.graphproppred import Evaluator"
   ],
   "outputs": [],
   "metadata": {}
  },
  {
   "cell_type": "markdown",
   "source": [
    "# Get dataset"
   ],
   "metadata": {}
  },
  {
   "cell_type": "code",
   "execution_count": 44,
   "source": [
    "# Download and process data at './dataset/ogbg_molhiv/'\r\n",
    "dataset = PygGraphPropPredDataset(name = \"ogbg-molhiv\", root = 'data/homework02/')"
   ],
   "outputs": [],
   "metadata": {}
  },
  {
   "cell_type": "code",
   "execution_count": 45,
   "source": [
    "# Print MetaData information from dataset\r\n",
    "print(dataset.meta_info)"
   ],
   "outputs": [
    {
     "output_type": "stream",
     "name": "stdout",
     "text": [
      "num tasks                                                                1\n",
      "eval metric                                                         rocauc\n",
      "download_name                                                          hiv\n",
      "version                                                                  1\n",
      "url                      http://snap.stanford.edu/ogb/data/graphproppre...\n",
      "add_inverse_edge                                                      True\n",
      "data type                                                              mol\n",
      "has_node_attr                                                         True\n",
      "has_edge_attr                                                         True\n",
      "task type                                            binary classification\n",
      "num classes                                                              2\n",
      "split                                                             scaffold\n",
      "additional node files                                                 None\n",
      "additional edge files                                                 None\n",
      "binary                                                               False\n",
      "Name: ogbg-molhiv, dtype: object\n"
     ]
    }
   ],
   "metadata": {}
  },
  {
   "cell_type": "code",
   "execution_count": 46,
   "source": [
    "# Get index of the atoms\r\n",
    "split_idx = dataset.get_idx_split() \r\n",
    "train_ids = split_idx[\"train\"]\r\n",
    "test_ids = split_idx[\"test\"]\r\n",
    "valid_ids = split_idx[\"valid\"]\r\n",
    "graphs = read_csv_graph_raw(\"data/homework02/ogbg_molhiv/raw\")"
   ],
   "outputs": [
    {
     "output_type": "stream",
     "name": "stdout",
     "text": [
      "Loading necessary files...\n",
      "This might take a while.\n",
      "Processing graphs...\n"
     ]
    },
    {
     "output_type": "stream",
     "name": "stderr",
     "text": [
      "100%|██████████| 41127/41127 [00:00<00:00, 447000.14it/s]\n"
     ]
    }
   ],
   "metadata": {}
  },
  {
   "cell_type": "markdown",
   "source": [
    "# Check graphs"
   ],
   "metadata": {}
  },
  {
   "cell_type": "code",
   "execution_count": 52,
   "source": [
    "''' \r\n",
    "Each graph has:\r\n",
    "    'num_nodes': \r\n",
    "        Quantity of the nodes\r\n",
    "    \r\n",
    "    'edge_index': \r\n",
    "        Two list. The node in the index i into \r\n",
    "        first list is connected with i node into second list\r\n",
    "    \r\n",
    "    'edge_feat':\r\n",
    "        Each edge has three features:\r\n",
    "            'bond_type'\r\n",
    "            'bond_stereo'\r\n",
    "            'conjugated'\r\n",
    "\r\n",
    "    'node_feat':\r\n",
    "        Each node has three features:\r\n",
    "            'atomic_num'\r\n",
    "            'chirality'\r\n",
    "            'degree'\r\n",
    "            'formal_charge'\r\n",
    "            'num_h'\r\n",
    "            'num_rad_e'\r\n",
    "            'hybridization'\r\n",
    "            'is_aromatic'\r\n",
    "            'is_in_ring'\r\n",
    "'''\r\n",
    "print(graphs[0])\r\n"
   ],
   "outputs": [
    {
     "output_type": "stream",
     "name": "stdout",
     "text": [
      "{'edge_index': array([[ 0,  1,  2,  3,  4,  5,  6,  7,  6,  4, 10, 11, 12, 11, 14, 15,\n",
      "        16, 15,  9, 18],\n",
      "       [ 1,  2,  3,  4,  5,  6,  7,  8,  9, 10, 11, 12, 13, 14, 15, 16,\n",
      "        17, 18,  2,  4]], dtype=int64), 'edge_feat': array([[0, 0, 0],\n",
      "       [0, 0, 0],\n",
      "       [1, 0, 0],\n",
      "       [0, 0, 0],\n",
      "       [0, 0, 0],\n",
      "       [1, 0, 0],\n",
      "       [0, 0, 0],\n",
      "       [0, 0, 0],\n",
      "       [0, 0, 0],\n",
      "       [0, 0, 0],\n",
      "       [1, 0, 0],\n",
      "       [0, 0, 0],\n",
      "       [0, 0, 0],\n",
      "       [0, 0, 0],\n",
      "       [0, 0, 0],\n",
      "       [0, 0, 0],\n",
      "       [0, 0, 0],\n",
      "       [1, 0, 0],\n",
      "       [0, 0, 0],\n",
      "       [0, 0, 0]], dtype=int64), 'node_feat': array([[ 5,  0,  4,  5,  3,  0,  2,  0,  0],\n",
      "       [ 5,  0,  4,  5,  2,  0,  2,  0,  0],\n",
      "       [ 5,  0,  3,  5,  0,  0,  1,  0,  1],\n",
      "       [ 7,  0,  2,  6,  0,  0,  1,  0,  1],\n",
      "       [28,  0,  4,  2,  0,  0,  5,  0,  1],\n",
      "       [ 7,  0,  2,  6,  0,  0,  1,  0,  1],\n",
      "       [ 5,  0,  3,  5,  0,  0,  1,  0,  1],\n",
      "       [ 5,  0,  4,  5,  2,  0,  2,  0,  0],\n",
      "       [ 5,  0,  4,  5,  3,  0,  2,  0,  0],\n",
      "       [ 5,  0,  4,  5,  2,  0,  2,  0,  1],\n",
      "       [ 7,  0,  2,  6,  0,  0,  1,  0,  1],\n",
      "       [ 5,  0,  3,  5,  0,  0,  1,  0,  1],\n",
      "       [ 5,  0,  4,  5,  2,  0,  2,  0,  0],\n",
      "       [ 5,  0,  4,  5,  3,  0,  2,  0,  0],\n",
      "       [ 5,  0,  4,  5,  2,  0,  2,  0,  1],\n",
      "       [ 5,  0,  3,  5,  0,  0,  1,  0,  1],\n",
      "       [ 5,  0,  4,  5,  2,  0,  2,  0,  0],\n",
      "       [ 5,  0,  4,  5,  3,  0,  2,  0,  0],\n",
      "       [ 7,  0,  2,  6,  0,  0,  1,  0,  1]], dtype=int64), 'num_nodes': 19}\n"
     ]
    }
   ],
   "metadata": {}
  },
  {
   "cell_type": "code",
   "execution_count": null,
   "source": [],
   "outputs": [],
   "metadata": {}
  }
 ],
 "metadata": {
  "orig_nbformat": 4,
  "language_info": {
   "name": "python",
   "version": "3.9.6",
   "mimetype": "text/x-python",
   "codemirror_mode": {
    "name": "ipython",
    "version": 3
   },
   "pygments_lexer": "ipython3",
   "nbconvert_exporter": "python",
   "file_extension": ".py"
  },
  "kernelspec": {
   "name": "python3",
   "display_name": "Python 3.9.6 64-bit"
  },
  "interpreter": {
   "hash": "e67436cab2aa47a38345cdcb4834809c3883e08610987e2ee7228876be9734d2"
  }
 },
 "nbformat": 4,
 "nbformat_minor": 2
}