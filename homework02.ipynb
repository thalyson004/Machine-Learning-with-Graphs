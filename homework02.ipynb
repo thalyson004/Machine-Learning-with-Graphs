{
 "cells": [
  {
   "cell_type": "markdown",
   "metadata": {},
   "source": [
    "# Get dataset"
   ]
  },
  {
   "cell_type": "code",
   "execution_count": 8,
   "metadata": {},
   "outputs": [],
   "source": [
    "from ogb.graphproppred import PygGraphPropPredDataset\n",
    "from ogb.io.read_graph_raw import read_csv_graph_raw\n",
    "import os.path as osp\n",
    "import pandas as pd"
   ]
  },
  {
   "cell_type": "code",
   "execution_count": 9,
   "metadata": {},
   "outputs": [],
   "source": [
    "# Download and process data at './dataset/ogbg_molhiv/'\n",
    "dataset = PygGraphPropPredDataset(name = \"ogbg-molhiv\", root = 'data/homework02/')"
   ]
  },
  {
   "cell_type": "code",
   "execution_count": 10,
   "metadata": {},
   "outputs": [
    {
     "name": "stdout",
     "output_type": "stream",
     "text": [
      "num tasks                                                                1\n",
      "eval metric                                                         rocauc\n",
      "download_name                                                          hiv\n",
      "version                                                                  1\n",
      "url                      http://snap.stanford.edu/ogb/data/graphproppre...\n",
      "add_inverse_edge                                                      True\n",
      "data type                                                              mol\n",
      "has_node_attr                                                         True\n",
      "has_edge_attr                                                         True\n",
      "task type                                            binary classification\n",
      "num classes                                                              2\n",
      "split                                                             scaffold\n",
      "additional node files                                                 None\n",
      "additional edge files                                                 None\n",
      "binary                                                               False\n",
      "Name: ogbg-molhiv, dtype: object\n"
     ]
    }
   ],
   "source": [
    "# Print MetaData information from dataset\n",
    "print(dataset.meta_info)"
   ]
  },
  {
   "cell_type": "code",
   "execution_count": 11,
   "metadata": {},
   "outputs": [
    {
     "name": "stdout",
     "output_type": "stream",
     "text": [
      "Loading necessary files...\n",
      "This might take a while.\n",
      "Processing graphs...\n"
     ]
    },
    {
     "name": "stderr",
     "output_type": "stream",
     "text": [
      "100%|██████████| 41127/41127 [00:00<00:00, 348535.92it/s]\n"
     ]
    }
   ],
   "source": [
    "# Get index of the atoms\n",
    "split_idx = dataset.get_idx_split() \n",
    "train_ids = list(map(int, list(split_idx[\"train\"])))\n",
    "test_ids  = list(map(int, list(split_idx[\"test\"])))\n",
    "valid_ids = list(map(int, list(split_idx[\"valid\"])))\n",
    "y = temp = pd.read_csv(osp.join(\"data/homework02/ogbg_molhiv/raw/graph-label.csv.gz\"), compression='gzip', header = None).values\n",
    "y = [value[0] for value in y]\n",
    "graphs = read_csv_graph_raw(\"data/homework02/ogbg_molhiv/raw\")\n",
    "\n",
    "train_graphs = [ graphs[i] for i in train_ids ]\n",
    "y_train = [ y[i] for i in train_ids ]\n",
    "\n",
    "test_graphs = [ graphs[i] for i in test_ids ]\n",
    "y_test = [ y[i] for i in test_ids ]\n",
    "\n",
    "valid_graphs = [ graphs[i] for i in valid_ids ]\n",
    "y_valid = [ y[i] for i in valid_ids ]"
   ]
  },
  {
   "cell_type": "markdown",
   "metadata": {},
   "source": [
    "# Check graph"
   ]
  },
  {
   "cell_type": "code",
   "execution_count": 12,
   "metadata": {},
   "outputs": [
    {
     "name": "stdout",
     "output_type": "stream",
     "text": [
      "{'edge_index': array([[ 0,  1,  2,  3,  4,  5,  6,  7,  6,  4, 10, 11, 12, 11, 14, 15,\n",
      "        16, 15,  9, 18],\n",
      "       [ 1,  2,  3,  4,  5,  6,  7,  8,  9, 10, 11, 12, 13, 14, 15, 16,\n",
      "        17, 18,  2,  4]], dtype=int64), 'edge_feat': array([[0, 0, 0],\n",
      "       [0, 0, 0],\n",
      "       [1, 0, 0],\n",
      "       [0, 0, 0],\n",
      "       [0, 0, 0],\n",
      "       [1, 0, 0],\n",
      "       [0, 0, 0],\n",
      "       [0, 0, 0],\n",
      "       [0, 0, 0],\n",
      "       [0, 0, 0],\n",
      "       [1, 0, 0],\n",
      "       [0, 0, 0],\n",
      "       [0, 0, 0],\n",
      "       [0, 0, 0],\n",
      "       [0, 0, 0],\n",
      "       [0, 0, 0],\n",
      "       [0, 0, 0],\n",
      "       [1, 0, 0],\n",
      "       [0, 0, 0],\n",
      "       [0, 0, 0]], dtype=int64), 'node_feat': array([[ 5,  0,  4,  5,  3,  0,  2,  0,  0],\n",
      "       [ 5,  0,  4,  5,  2,  0,  2,  0,  0],\n",
      "       [ 5,  0,  3,  5,  0,  0,  1,  0,  1],\n",
      "       [ 7,  0,  2,  6,  0,  0,  1,  0,  1],\n",
      "       [28,  0,  4,  2,  0,  0,  5,  0,  1],\n",
      "       [ 7,  0,  2,  6,  0,  0,  1,  0,  1],\n",
      "       [ 5,  0,  3,  5,  0,  0,  1,  0,  1],\n",
      "       [ 5,  0,  4,  5,  2,  0,  2,  0,  0],\n",
      "       [ 5,  0,  4,  5,  3,  0,  2,  0,  0],\n",
      "       [ 5,  0,  4,  5,  2,  0,  2,  0,  1],\n",
      "       [ 7,  0,  2,  6,  0,  0,  1,  0,  1],\n",
      "       [ 5,  0,  3,  5,  0,  0,  1,  0,  1],\n",
      "       [ 5,  0,  4,  5,  2,  0,  2,  0,  0],\n",
      "       [ 5,  0,  4,  5,  3,  0,  2,  0,  0],\n",
      "       [ 5,  0,  4,  5,  2,  0,  2,  0,  1],\n",
      "       [ 5,  0,  3,  5,  0,  0,  1,  0,  1],\n",
      "       [ 5,  0,  4,  5,  2,  0,  2,  0,  0],\n",
      "       [ 5,  0,  4,  5,  3,  0,  2,  0,  0],\n",
      "       [ 7,  0,  2,  6,  0,  0,  1,  0,  1]], dtype=int64), 'num_nodes': 19}\n",
      "<class 'dict'>\n"
     ]
    }
   ],
   "source": [
    "''' \n",
    "Each graph has:\n",
    "    'num_nodes': \n",
    "        Number of the nodes\n",
    "    \n",
    "    'edge_index': \n",
    "        Two list. The i° node into \n",
    "        first list is connected with i° node into second list\n",
    "    \n",
    "    'edge_feat':\n",
    "        Each edge has three features:\n",
    "            'bond_type'\n",
    "            'bond_stereo'\n",
    "            'conjugated'\n",
    "\n",
    "    'node_feat':\n",
    "        Each node has nine features:\n",
    "            'atomic_num'\n",
    "            'chirality'\n",
    "            'degree'\n",
    "            'formal_charge'\n",
    "            'num_h'\n",
    "            'num_rad_e'\n",
    "            'hybridization'\n",
    "            'is_aromatic'\n",
    "            'is_in_ring'\n",
    "'''\n",
    "print(graphs[0])\n",
    "print(type(graphs[0]))\n"
   ]
  },
  {
   "cell_type": "code",
   "execution_count": 13,
   "metadata": {},
   "outputs": [
    {
     "name": "stdout",
     "output_type": "stream",
     "text": [
      "[3, 4, 5, 6, 8, 9, 10, 11, 12, 13] ... 32901\n",
      "[0, 1, 2, 7, 17, 18, 19, 26, 28, 31] ... 4113\n",
      "[10127, 10129, 10132, 10133, 10134, 10136, 10139, 10140, 10149, 10153] ... 4113\n"
     ]
    }
   ],
   "source": [
    "print(train_ids[:10],'...', len(train_ids))\n",
    "print(test_ids[:10],'...', len(test_ids)) \n",
    "print(valid_ids[:10],'...', len(valid_ids)) "
   ]
  },
  {
   "cell_type": "markdown",
   "metadata": {},
   "source": [
    "## PapaGraph library"
   ]
  },
  {
   "cell_type": "code",
   "execution_count": 14,
   "metadata": {},
   "outputs": [],
   "source": [
    "from PapaGraph.PapaGraph import PapaGraph # https://github.com/thalyson004/PapaGraph/blob/main/PapaGraph/src/PapaGraph/PapaGraph/PapaGraph.py\n",
    "from PapaGraph.convert import convert_from_ogb # https://github.com/thalyson004/PapaGraph/blob/main/PapaGraph/src/PapaGraph/convert/convert.py"
   ]
  },
  {
   "cell_type": "code",
   "execution_count": 15,
   "metadata": {},
   "outputs": [
    {
     "name": "stdout",
     "output_type": "stream",
     "text": [
      "40\n",
      "19\n"
     ]
    }
   ],
   "source": [
    "graph = convert_from_ogb(graphs[0])\n",
    "print(graph.edges_number)\n",
    "print(graph.nodes_number)"
   ]
  },
  {
   "cell_type": "markdown",
   "metadata": {},
   "source": [
    "# Task 01\n",
    "\n",
    "Implemente um algoritmo [Random Walk Strategy R](https://web.stanford.edu/class/cs224w/slides/03-nodeemb.pdf) para gerar o conjunto de vértices que são\n",
    "percorridos em um passeio aleatório a partir de um vértice de origem $u$. O seu\n",
    "algoritmo deve gerar um conjunto de $r$ passeios aleatórios enviesados a partir\n",
    "da origem $u$, com as probabilidades de transição definidas através dos\n",
    "parâmetros $p$ e $q$ vistos em sala. Você deve escolher os valores de $r$, $p$ e $q$."
   ]
  },
  {
   "cell_type": "code",
   "execution_count": 16,
   "metadata": {},
   "outputs": [
    {
     "data": {
      "text/plain": [
       "[[0, 1, 0, 1, 2, 9, 6, 7, 8, 7, 6],\n",
       " [0, 1, 0, 1, 0, 1, 0, 1, 0, 1, 0],\n",
       " [0, 1, 0, 1, 0, 1, 0, 1, 0, 1, 0],\n",
       " [0, 1, 0, 1, 0, 1, 2, 1, 0, 1, 0],\n",
       " [0, 1, 2, 1, 0, 1, 0, 1, 0, 1, 2]]"
      ]
     },
     "execution_count": 16,
     "metadata": {},
     "output_type": "execute_result"
    }
   ],
   "source": [
    "from PapaGraph.walk import random_walk_r\n",
    "random_walk_r(graph, start=0, lenght=10, r=5, p=1.0, q=2.0)"
   ]
  },
  {
   "cell_type": "markdown",
   "metadata": {},
   "source": [
    "# Task 02\n",
    "\n",
    "Implemente o algoritmo node2vec para projetar os vértices , utilizando o\n",
    "método do gradiente (em sua versão normal ou estocástica) para otimizar a\n",
    "projeção dos vértices. Você pode usar implementações existentes do\n",
    "gradiente."
   ]
  },
  {
   "cell_type": "code",
   "execution_count": 18,
   "metadata": {},
   "outputs": [
    {
     "name": "stdout",
     "output_type": "stream",
     "text": [
      "0 [ 0.39914814 -0.27624518  0.05856393]\n",
      "1 [ 0.04426099 -0.5470282   0.32221627]\n",
      "2 [ 0.65019816  0.05262391 -0.13769294]\n",
      "3 [ 0.07382798 -0.22017403  0.34318   ]\n",
      "4 [ 0.5453529  -0.3244716   0.19830388]\n",
      "5 [ 0.12186152 -0.38298598  0.01581148]\n",
      "6 [ 0.35160327 -0.09068904 -0.08415576]\n",
      "7 [ 0.29526532 -0.14609012  0.09520106]\n",
      "8 [ 0.21637295 -0.4410184   0.41771188]\n",
      "9 [ 0.1846557 -0.5884688  0.2617444]\n",
      "10 [ 0.584652   -0.34647447 -0.02321295]\n",
      "11 [ 0.73250735 -0.57985413 -0.23270574]\n",
      "12 [ 0.23201087 -0.3997658  -0.06037172]\n",
      "13 [ 0.63409305 -0.39228824  0.15352862]\n",
      "14 [ 0.73160356 -0.4304638  -0.02242015]\n",
      "15 [ 0.70661414 -0.08163629 -0.12770708]\n",
      "16 [ 0.83584684  0.03720644 -0.06961846]\n",
      "17 [ 0.73272634  0.14428914 -0.34669638]\n",
      "18 [ 0.67709965 -0.47243205 -0.15530863]\n"
     ]
    }
   ],
   "source": [
    "from PapaGraph.feature import node2vec # https://github.com/thalyson004/PapaGraph/blob/main/PapaGraph/src/PapaGraph/feature/node2vec.py\n",
    "\n",
    "features = node2vec(graph, d=3, r=20, lenght= 5, p=1.0, q=0.5, epochs=10)\n",
    "for key in features.keys():\n",
    "    print(key, features[key])"
   ]
  },
  {
   "cell_type": "markdown",
   "metadata": {},
   "source": [
    "# Task 03\n",
    "\n",
    "Implemente um algoritmo para gerar a projeção de um grafo. O seu algoritmo\n",
    "deve usar a abordagem de adicionar um vértice adjacente a todos os vértices\n",
    "do grafo, utilizando então o node2vec para determinar a projeção do vértice\n",
    "adicionado, que será a projeção do grafo inteiro."
   ]
  },
  {
   "cell_type": "code",
   "execution_count": 20,
   "metadata": {},
   "outputs": [
    {
     "name": "stdout",
     "output_type": "stream",
     "text": [
      "[ 0.10132939 -0.17751448 -0.13969803  0.01766401  0.1277518 ]\n"
     ]
    }
   ],
   "source": [
    "from PapaGraph.feature import graph2vec # https://github.com/thalyson004/PapaGraph/blob/main/PapaGraph/src/PapaGraph/feature/node2vec.py\n",
    "\n",
    "feature = graph2vec(graph, d= 5, r=3, lenght=5, p=1.0, q=1.0, epochs=5)\n",
    "print(feature)"
   ]
  },
  {
   "cell_type": "code",
   "execution_count": 21,
   "metadata": {},
   "outputs": [
    {
     "name": "stdout",
     "output_type": "stream",
     "text": [
      "{}\n",
      "{'f0': 0.101162866, 'f1': -0.17776242, 'f2': -0.14063692, 'f3': 0.017113658, 'f4': 0.1280033}\n"
     ]
    }
   ],
   "source": [
    "print(graph.graph_features)\n",
    "graph2vec(graph, d= 5, r=3, lenght=5, p=1.0, q=1.0, epochs=5, add_feature=True)\n",
    "print(graph.graph_features)"
   ]
  },
  {
   "cell_type": "markdown",
   "metadata": {},
   "source": [
    "# Task 04\n",
    "\n",
    "Utilize o algoritmo de classificação de sua escolha para operar no dataset\n",
    "utilizando como entrada o vetor projeção do grafo, bem como outras features\n",
    "que você considere importante derivar a partir do grafo (as features nos\n",
    "vértices ou arestas)."
   ]
  },
  {
   "cell_type": "code",
   "execution_count": null,
   "metadata": {},
   "outputs": [],
   "source": [
    "from tqdm.notebook import tqdm\n",
    "# convert_from_ogb: https://github.com/thalyson004/PapaGraph/blob/main/PapaGraph/src/PapaGraph/convert/convert.py\n",
    "# print(\"Converting ...\")\n",
    "# train_papaGraphs = list(map(convert_from_ogb, train_graphs))\n",
    "# print(\"Completed!\\n\", len(train_papaGraphs), \"train_graphs!\")\n",
    "\n",
    "# print(\"Converting ...\")\n",
    "# test_papaGraphs = list(map(convert_from_ogb, test_graphs))\n",
    "# print(\"Completed!\\n\", len(test_papaGraphs), \"test_graphs!\")\n",
    "\n",
    "# print(\"Appling graph2vec on train...\")\n",
    "# for i in tqdm(range(len(train_papaGraphs))):\n",
    "#     graph2vec(train_papaGraphs[i], d=5, add_feature=True)\n",
    "# print(\"Completed!\")\n",
    "\n",
    "# print(\"Appling graph2vec on test...\")\n",
    "# for i in tqdm(range(len(test_papaGraphs))):\n",
    "#     graph2vec(test_papaGraphs[i], d=5, add_feature=True)\n",
    "# print(\"Completed!\")"
   ]
  },
  {
   "cell_type": "code",
   "execution_count": 22,
   "metadata": {},
   "outputs": [],
   "source": [
    "import pickle \n",
    "\n",
    "# pickle.dump(train_papaGraphs, open(\"train_papaGraphs.obj\", 'wb'))\n",
    "# pickle.dump(test_papaGraphs, open(\"test_papaGraphs.obj\", 'wb'))\n",
    "train_papaGraphs = pickle.load(open(\"train_papaGraphs.obj\", \"rb\"))\n",
    "test_papaGraphs = pickle.load(open(\"test_papaGraphs.obj\", \"rb\"))"
   ]
  },
  {
   "cell_type": "code",
   "execution_count": 23,
   "metadata": {},
   "outputs": [
    {
     "name": "stdout",
     "output_type": "stream",
     "text": [
      "             f0        f1        f2        f3        f4\n",
      "0     -0.164738  0.323599  0.343455 -0.474156  0.255364\n",
      "1     -0.174540  0.107366 -0.058420  0.014378  0.139732\n",
      "2     -0.086000  0.193167  0.168853  0.064860 -0.190298\n",
      "3     -0.197152  0.112420 -0.053639  0.009007  0.121829\n",
      "4     -0.114709  0.319488  0.245707 -0.457126  0.384809\n",
      "...         ...       ...       ...       ...       ...\n",
      "32896 -0.031652  0.365228  0.255580 -0.484542  0.290821\n",
      "32897 -0.316322  0.499218  0.804708 -0.231455  0.388215\n",
      "32898  0.162916  0.640050  0.406275 -0.372082  0.487431\n",
      "32899 -0.034381  0.657246  0.525022 -0.443322  0.448297\n",
      "32900  0.191467  0.461863  0.280935 -0.622993  0.446414\n",
      "\n",
      "[32901 rows x 5 columns]\n"
     ]
    }
   ],
   "source": [
    "from PapaGraph.convert import toDataFrame # https://github.com/thalyson004/PapaGraph/blob/main/PapaGraph/src/PapaGraph/convert/todata.py\n",
    "X_train = toDataFrame(train_papaGraphs)\n",
    "X_test = toDataFrame(test_papaGraphs)\n",
    "print(X_train)"
   ]
  },
  {
   "cell_type": "code",
   "execution_count": 24,
   "metadata": {},
   "outputs": [],
   "source": [
    "from sklearn.svm import SVC\n",
    "\n",
    "classifier = SVC(kernel='sigmoid')\n",
    "classifier.fit(X_train, y_train)\n",
    "y_pred = list(classifier.predict(X_test))"
   ]
  },
  {
   "cell_type": "code",
   "execution_count": 26,
   "metadata": {},
   "outputs": [
    {
     "name": "stdout",
     "output_type": "stream",
     "text": [
      "Accuracy: 94.00 %\n",
      "Confusion Matrix\n",
      "[[3831  152]\n",
      " [ 111   19]]\n"
     ]
    },
    {
     "data": {
      "image/png": "[encoded data removed]",
      "text/plain": [
       "<Figure size 560x560 with 2 Axes>"
      ]
     },
     "metadata": {
      "needs_background": "light"
     },
     "output_type": "display_data"
    }
   ],
   "source": [
    "import matplotlib.pyplot as plt\n",
    "from sklearn.metrics import accuracy_score\n",
    "from sklearn.metrics import confusion_matrix\n",
    "from sklearn.metrics import plot_confusion_matrix\n",
    "\n",
    "\n",
    "print(\"Accuracy: %2.2f %%\" %(round(accuracy_score(y_test, y_pred)*100)))\n",
    "print(\"Confusion Matrix\\n\", confusion_matrix(y_test, y_pred), sep=\"\")\n",
    "\n",
    "figure, ax = plt.subplots(1, 1, figsize=(8, 8), dpi=70)\n",
    "plot_confusion_matrix(classifier, X_test, y_test, ax=ax)  \n",
    "plt.show()"
   ]
  },
  {
   "cell_type": "markdown",
   "metadata": {},
   "source": [
    "# Task 05\n",
    "\n",
    "Apresente os resultados obtidos pelo seu modelo, utilizando para avaliação o [ROC-AUC](https://medium.com/bio-data-blog/entenda-o-que-%C3%A9-auc-e-roc-nos-modelos-de-machine-learning-8191fb4df772), e compare os seus resultados com os obtidos [anteriormente](https://paperswithcode.com/sota/graph-property-prediction-on-ogbg-molhiv)."
   ]
  },
  {
   "cell_type": "code",
   "execution_count": 27,
   "metadata": {},
   "outputs": [
    {
     "name": "stdout",
     "output_type": "stream",
     "text": [
      "AUC: 0.554\n"
     ]
    }
   ],
   "source": [
    "from sklearn.metrics import roc_auc_score\n",
    "\n",
    "auc = roc_auc_score(y_test, y_pred)\n",
    "print('AUC: %.3f' % auc)"
   ]
  },
  {
   "cell_type": "code",
   "execution_count": null,
   "metadata": {},
   "outputs": [],
   "source": []
  }
 ],
 "metadata": {
  "interpreter": {
   "hash": "e67436cab2aa47a38345cdcb4834809c3883e08610987e2ee7228876be9734d2"
  },
  "kernelspec": {
   "display_name": "Python 3.9.6 64-bit",
   "name": "python3"
  },
  "language_info": {
   "codemirror_mode": {
    "name": "ipython",
    "version": 3
   },
   "file_extension": ".py",
   "mimetype": "text/x-python",
   "name": "python",
   "nbconvert_exporter": "python",
   "pygments_lexer": "ipython3",
   "version": "3.9.6"
  },
  "orig_nbformat": 4
 },
 "nbformat": 4,
 "nbformat_minor": 2
}
