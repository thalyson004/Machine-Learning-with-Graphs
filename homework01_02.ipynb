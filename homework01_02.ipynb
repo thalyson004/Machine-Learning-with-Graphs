{
 "cells": [
  {
   "cell_type": "code",
   "execution_count": 1,
   "source": [
    "import pandas as pd\r\n",
    "import torch\r\n",
    "import networkx as nx\r\n",
    "import torch_geometric.datasets as dataset\r\n",
    "\r\n",
    "import seaborn as sns\r\n",
    "import matplotlib.pyplot as plt\r\n",
    "\r\n",
    "from grakel.kernels import WeisfeilerLehman, VertexHistogram\r\n",
    "from sklearn.model_selection import train_test_split\r\n",
    "from sklearn.svm import SVC\r\n",
    "\r\n",
    "# Metrics\r\n",
    "from sklearn.metrics import accuracy_score\r\n",
    "from sklearn.metrics import confusion_matrix\r\n",
    "\r\n",
    "# Types\r\n",
    "from torch_geometric.datasets import GNNBenchmarkDataset\r\n",
    "#from networkx import Graph"
   ],
   "outputs": [],
   "metadata": {}
  },
  {
   "cell_type": "code",
   "execution_count": 2,
   "source": [
    "# Get dataset\r\n",
    "myData = dataset.GNNBenchmarkDataset(\r\n",
    "    root=\"data/homework02\",\r\n",
    "    name=\"CSL\",\r\n",
    ")"
   ],
   "outputs": [],
   "metadata": {}
  },
  {
   "cell_type": "code",
   "execution_count": 3,
   "source": [
    "# Create a graph list from GNNBenchmarkDataset\r\n",
    "graphs = myData.process_CSL()"
   ],
   "outputs": [],
   "metadata": {}
  },
  {
   "cell_type": "code",
   "execution_count": 4,
   "source": [
    "def createGraph(data: GNNBenchmarkDataset) -> list:  \r\n",
    "    \"\"\"Create a graph in the GraphKitLeaning format\r\n",
    "    using a graph from GNNBenchmarkDataset\r\n",
    "    \r\n",
    "    Input \r\n",
    "    ---\r\n",
    "    data: a GNNBenchmarkDataset \r\n",
    "\r\n",
    "    Output\r\n",
    "    ---\r\n",
    "    list of [set of edges, dict of node labels, dict of edge labels]\r\n",
    "    \"\"\" \r\n",
    "    # dictionary that keeps sets of edges\r\n",
    "    Graphs = set()\r\n",
    "    # dictionary of labels for nodes\r\n",
    "    node_labels = dict()\r\n",
    "    # dictionary of labels for edges\r\n",
    "    edge_labels = dict()\r\n",
    "    \r\n",
    "    # Create Graph\r\n",
    "    u = data.edge_index[0]\r\n",
    "    v = data.edge_index[1]\r\n",
    "    for index in range(data.num_edges):\r\n",
    "        Graphs.add( (int(u[index]), int(v[index])) )\r\n",
    "\r\n",
    "    # Create node label\r\n",
    "    for count, index in enumerate(range(data.num_nodes)):\r\n",
    "        node_labels[index] = count\r\n",
    "    \r\n",
    "    # Create edge label\r\n",
    "    for index in range(data.num_edges):\r\n",
    "        edge_labels[ (int(u[index]), int(v[index])) ] = 0\r\n",
    "        edge_labels[ (int(v[index]), int(u[index])) ] = 0\r\n",
    "\r\n",
    "    return [Graphs, node_labels, edge_labels]"
   ],
   "outputs": [],
   "metadata": {}
  },
  {
   "cell_type": "code",
   "execution_count": 5,
   "source": [
    "def createGraphs(data: list[GNNBenchmarkDataset]) -> list: \r\n",
    "    \"\"\"Create a list of lists of [set of edges, dict of node labels, dict of edge labels]\r\n",
    "\r\n",
    "    Input\r\n",
    "    ----------\r\n",
    "    data : list[GNNBenchmarkDataset]\r\n",
    "\r\n",
    "    Output\r\n",
    "    -------\r\n",
    "    A list graphs divided as [set of edges, dict of node labels, dict of edge labels]\r\n",
    "    \"\"\"\r\n",
    "    \r\n",
    "    graphs = list(map(createGraph, data))\r\n",
    "    return graphs"
   ],
   "outputs": [],
   "metadata": {}
  },
  {
   "cell_type": "code",
   "execution_count": 6,
   "source": [
    "def getYs(data: list[GNNBenchmarkDataset])-> list:\r\n",
    "    \"\"\"Extract Ys from a list of GNNBenchmarkDataset\r\n",
    "\r\n",
    "    Input\r\n",
    "    -----\r\n",
    "    data: A list of a GNNBenchmarkDataset \r\n",
    "\r\n",
    "    Output\r\n",
    "    -----\r\n",
    "    A list of Ys\r\n",
    "    \"\"\"\r\n",
    "    \r\n",
    "    y = [ graph.y for graph in data ]\r\n",
    "    return y"
   ],
   "outputs": [],
   "metadata": {}
  },
  {
   "cell_type": "code",
   "execution_count": 7,
   "source": [
    "# Transform graphs from dataset to graphs from GraphKitLearning library\r\n",
    "G = createGraphs(graphs)\r\n",
    "# Extract Ys from graphs of the dateset\r\n",
    "y = getYs(graphs)\r\n",
    "# Create a WL extractor\r\n",
    "wl_kernel = WeisfeilerLehman(n_iter=5, normalize=False)\r\n",
    "# Divide dataset into train_set and test_set\r\n",
    "G_train, G_test, y_train, y_test = train_test_split(G, y, test_size=0.3, random_state=42)"
   ],
   "outputs": [],
   "metadata": {}
  },
  {
   "cell_type": "code",
   "execution_count": 8,
   "source": [
    "# Train model to create a WL kernel\r\n",
    "wl_kernel.fit(G_train)\r\n",
    "\r\n",
    "# Create WL kernel matrix using train set\r\n",
    "K_train = wl_kernel.transform(G_train)\r\n",
    "# Create WL kernel matrix using test set\r\n",
    "K_test = wl_kernel.transform(G_test)"
   ],
   "outputs": [],
   "metadata": {}
  },
  {
   "cell_type": "code",
   "execution_count": 9,
   "source": [
    "# Print WL kernel for the first train graph\r\n",
    "K_train[0]"
   ],
   "outputs": [
    {
     "output_type": "execute_result",
     "data": {
      "text/plain": [
       "array([246.,  41.,  41., 106.,  41.,  41.,  41.,  41.,  41.,  41.,  41.,\n",
       "        41.,  41.,  41.,  41.,  41.,  41.,  41.,  41.,  41.,  41.,  41.,\n",
       "        41.,  41.,  41.,  41.,  41.,  41.,  41.,  41.,  91.,  41.,  41.,\n",
       "        41.,  41.,  41.,  41.,  41.,  87.,  91.,  41.,  41.,  41.,  41.,\n",
       "        41.,  41.,  41., 106.,  41.,  41.,  91.,  41.,  41.,  41.,  41.,\n",
       "        41.,  41.,  41.,  41.,  41.,  41.,  41.,  41.,  41.,  41.,  41.,\n",
       "        41.,  41.,  41.,  41.,  41.,  41.,  41.,  81.,  41.,  41.,  41.,\n",
       "        41.,  41.,  41.,  87.,  41.,  41.,  41.,  41.,  41.,  41.,  41.,\n",
       "        41.,  41.,  41.,  41.,  41.,  41.,  41.,  98.,  41.,  41.,  41.,\n",
       "        41.,  41.,  41.,  41.,  41.,  41.])"
      ]
     },
     "metadata": {},
     "execution_count": 9
    }
   ],
   "metadata": {}
  },
  {
   "cell_type": "code",
   "execution_count": 10,
   "source": [
    "# Create e SVC model\r\n",
    "svc = SVC(kernel='precomputed')\r\n",
    "# Train SVC model using WL kernel and real classification\r\n",
    "svc.fit(K_train, y_train)\r\n",
    "# Predict classifications for test set\r\n",
    "y_pred = list(svc.predict(K_test))"
   ],
   "outputs": [],
   "metadata": {}
  },
  {
   "cell_type": "code",
   "execution_count": 11,
   "source": [
    "print(\"Real classification\\n\", y_test, sep=\"\")\r\n",
    "print(\"Predict classification\\n\", y_pred, sep=\"\")\r\n",
    "print(\"Accuracy: %2.2f %%\" %(round(accuracy_score(y_test, y_pred)*100)))\r\n",
    "print(\"Confusion Matrix\\n\", confusion_matrix(y_test, y_pred), sep=\"\")"
   ],
   "outputs": [
    {
     "output_type": "stream",
     "name": "stdout",
     "text": [
      "Real classification\n",
      "[4, 1, 7, 5, 5, 2, 4, 9, 4, 5, 7, 0, 2, 0, 1, 3, 6, 4, 3, 8, 1, 8, 1, 8, 8, 9, 7, 9, 3, 2, 1, 1, 4, 0, 2, 9, 3, 1, 0, 2, 9, 5, 5, 1, 0]\n",
      "Predict classification\n",
      "[4, 1, 7, 5, 5, 2, 4, 9, 4, 5, 7, 0, 2, 0, 1, 3, 6, 4, 3, 8, 1, 8, 1, 8, 8, 9, 7, 9, 3, 2, 1, 1, 4, 0, 2, 9, 3, 1, 0, 2, 9, 5, 5, 1, 0]\n",
      "Accuracy: 100.00 %\n",
      "Confusion Matrix\n",
      "[[5 0 0 0 0 0 0 0 0 0]\n",
      " [0 8 0 0 0 0 0 0 0 0]\n",
      " [0 0 5 0 0 0 0 0 0 0]\n",
      " [0 0 0 4 0 0 0 0 0 0]\n",
      " [0 0 0 0 5 0 0 0 0 0]\n",
      " [0 0 0 0 0 5 0 0 0 0]\n",
      " [0 0 0 0 0 0 1 0 0 0]\n",
      " [0 0 0 0 0 0 0 3 0 0]\n",
      " [0 0 0 0 0 0 0 0 4 0]\n",
      " [0 0 0 0 0 0 0 0 0 5]]\n"
     ]
    }
   ],
   "metadata": {}
  }
 ],
 "metadata": {
  "kernelspec": {
   "name": "python3",
   "display_name": "Python 3.9.6 64-bit"
  },
  "language_info": {
   "codemirror_mode": {
    "name": "ipython",
    "version": 3
   },
   "file_extension": ".py",
   "mimetype": "text/x-python",
   "name": "python",
   "nbconvert_exporter": "python",
   "pygments_lexer": "ipython3",
   "version": "3.9.6"
  },
  "interpreter": {
   "hash": "e67436cab2aa47a38345cdcb4834809c3883e08610987e2ee7228876be9734d2"
  }
 },
 "nbformat": 4,
 "nbformat_minor": 5
}